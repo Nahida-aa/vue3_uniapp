{
 "cells": [
  {
   "cell_type": "markdown",
   "metadata": {},
   "source": [
    "# Vue3 learn\n",
    "TS/Vue3/Vite\n",
    "\n",
    "```sh\n",
    "pnpm install\n",
    "pnpm run dev:%PLATFORM%\n",
    "```"
   ]
  }
 ],
 "metadata": {
  "kernelspec": {
   "display_name": "base",
   "language": "python",
   "name": "python3"
  },
  "language_info": {
   "name": "python",
   "version": "3.12.4"
  }
 },
 "nbformat": 4,
 "nbformat_minor": 2
}
